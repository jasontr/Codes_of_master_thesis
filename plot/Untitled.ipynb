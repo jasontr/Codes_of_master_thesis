{
 "cells": [
  {
   "cell_type": "code",
   "execution_count": 1,
   "metadata": {
    "collapsed": false
   },
   "outputs": [
    {
     "name": "stdout",
     "output_type": "stream",
     "text": [
      "Populating the interactive namespace from numpy and matplotlib\n"
     ]
    }
   ],
   "source": [
    "import numpy as np\n",
    "import matplotlib.pyplot as plt\n",
    "%pylab inline --no-import-all\n"
   ]
  },
  {
   "cell_type": "code",
   "execution_count": 4,
   "metadata": {
    "collapsed": false
   },
   "outputs": [
    {
     "data": {
      "image/png": "[encoded data removed]",
      "text/plain": [
       "<matplotlib.figure.Figure at 0xaf14e80>"
      ]
     },
     "metadata": {},
     "output_type": "display_data"
    }
   ],
   "source": [
    "w = 0.4\n",
    "\n",
    "Y1 = np.array([3,1,4])\n",
    "Y2 = np.array([1,5,9])\n",
    "\n",
    "X = np.arange(len(Y1)) # [0, 1, 2]\n",
    "\n",
    "# 2012年のデータを青で表示\n",
    "plt.bar(X, Y1, color='b', width=w, label='2012', align=\"center\")\n",
    "\n",
    "# 2013年のデータを緑で表示\n",
    "plt.bar(X + w, Y2, color='g', width=w, label='2013', align=\"center\")\n",
    "\n",
    "# 凡例を表示\n",
    "plt.legend(loc=\"best\")\n",
    "\n",
    "# X軸の目盛りを書き換える\n",
    "plt.xticks(X + w/2, ['Tokyo','Osaka','Nagoya'])\n",
    "\n",
    "plt.show()\n"
   ]
  },
  {
   "cell_type": "code",
   "execution_count": 7,
   "metadata": {
    "collapsed": false
   },
   "outputs": [
    {
     "ename": "AttributeError",
     "evalue": "'Axes' object has no attribute 'xticks'",
     "output_type": "error",
     "traceback": [
      "\u001b[1;31m---------------------------------------------------------------------------\u001b[0m",
      "\u001b[1;31mAttributeError\u001b[0m                            Traceback (most recent call last)",
      "\u001b[1;32m<ipython-input-7-421089fb4076>\u001b[0m in \u001b[0;36m<module>\u001b[1;34m()\u001b[0m\n\u001b[0;32m     17\u001b[0m \u001b[1;33m\u001b[0m\u001b[0m\n\u001b[0;32m     18\u001b[0m \u001b[1;31m# X軸の目盛りを書き換える\u001b[0m\u001b[1;33m\u001b[0m\u001b[1;33m\u001b[0m\u001b[0m\n\u001b[1;32m---> 19\u001b[1;33m \u001b[0max1\u001b[0m\u001b[1;33m.\u001b[0m\u001b[0mxticks\u001b[0m\u001b[1;33m(\u001b[0m\u001b[0mX\u001b[0m \u001b[1;33m+\u001b[0m \u001b[0mw\u001b[0m\u001b[1;33m/\u001b[0m\u001b[1;36m2\u001b[0m\u001b[1;33m,\u001b[0m \u001b[1;33m[\u001b[0m\u001b[1;34m'Tokyo'\u001b[0m\u001b[1;33m,\u001b[0m\u001b[1;34m'Osaka'\u001b[0m\u001b[1;33m,\u001b[0m\u001b[1;34m'Nagoya'\u001b[0m\u001b[1;33m]\u001b[0m\u001b[1;33m)\u001b[0m\u001b[1;33m\u001b[0m\u001b[0m\n\u001b[0m\u001b[0;32m     20\u001b[0m \u001b[1;33m\u001b[0m\u001b[0m\n\u001b[0;32m     21\u001b[0m \u001b[0max2\u001b[0m\u001b[1;33m.\u001b[0m\u001b[0mbar\u001b[0m\u001b[1;33m(\u001b[0m\u001b[0mX\u001b[0m\u001b[1;33m,\u001b[0m \u001b[0mY1\u001b[0m\u001b[1;33m,\u001b[0m \u001b[0mcolor\u001b[0m\u001b[1;33m=\u001b[0m\u001b[1;34m'b'\u001b[0m\u001b[1;33m,\u001b[0m \u001b[0mwidth\u001b[0m\u001b[1;33m=\u001b[0m\u001b[0mw\u001b[0m\u001b[1;33m,\u001b[0m \u001b[0mlabel\u001b[0m\u001b[1;33m=\u001b[0m\u001b[1;34m'2012'\u001b[0m\u001b[1;33m,\u001b[0m \u001b[0malign\u001b[0m\u001b[1;33m=\u001b[0m\u001b[1;34m\"center\"\u001b[0m\u001b[1;33m)\u001b[0m\u001b[1;33m\u001b[0m\u001b[0m\n",
      "\u001b[1;31mAttributeError\u001b[0m: 'Axes' object has no attribute 'xticks'"
     ]
    },
    {
     "data": {
      "image/png": "[encoded data removed]",
      "text/plain": [
       "<matplotlib.figure.Figure at 0xc3f22e8>"
      ]
     },
     "metadata": {},
     "output_type": "display_data"
    }
   ],
   "source": [
    "fig = plt.figure()\n",
    "\n",
    "# サブプロットを8:2で分割\n",
    "ax1 = fig.add_axes((0, 1, 0.5, 1))\n",
    "ax2 = fig.add_axes((0.5, 1, 0.5, 1), sharey=ax1)\n",
    "\n",
    "# 散布図のx軸のラベルとヒストグラムのy軸のラベルを非表示\n",
    "#ax1.tick_params(labelbottom=\"off\")\n",
    "#ax2.tick_params(labelleft=\"off\")\n",
    "ax1.bar(X, Y1, color='b', width=w, label='2012', align=\"center\")\n",
    "\n",
    "# 2013年のデータを緑で表示\n",
    "ax1.bar(X + w, Y2, color='g', width=w, label='2013', align=\"center\")\n",
    "\n",
    "# 凡例を表示\n",
    "#ax1.legend(loc=\"best\")\n",
    "\n",
    "# X軸の目盛りを書き換える\n",
    "ax1.xticks(X + w/2, ['Tokyo','Osaka','Nagoya'])\n",
    "\n",
    "ax2.bar(X, Y1, color='b', width=w, label='2012', align=\"center\")\n",
    "\n",
    "# 2013年のデータを緑で表示\n",
    "ax2.bar(X + w, Y2, color='g', width=w, label='2013', align=\"center\")\n",
    "\n",
    "# 凡例を表示\n",
    "ax2.legend(loc=\"best\")\n",
    "\n",
    "# X軸の目盛りを書き換える\n",
    "ax2.xticks(X + w/2, ['Tokyo','Osaka','Nagoya'])\n",
    "\n",
    "#ax1.plot(x, y, \"x\")\n",
    "#ax2.hist(x, bins=20)"
   ]
  },
  {
   "cell_type": "code",
   "execution_count": null,
   "metadata": {
    "collapsed": true
   },
   "outputs": [],
   "source": []
  }
 ],
 "metadata": {
  "kernelspec": {
   "display_name": "Python 2",
   "language": "python",
   "name": "python2"
  },
  "language_info": {
   "codemirror_mode": {
    "name": "ipython",
    "version": 2
   },
   "file_extension": ".py",
   "mimetype": "text/x-python",
   "name": "python",
   "nbconvert_exporter": "python",
   "pygments_lexer": "ipython2",
   "version": "2.7.10"
  }
 },
 "nbformat": 4,
 "nbformat_minor": 0
}
